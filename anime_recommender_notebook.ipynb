{
 "cells": [
  {
   "cell_type": "code",
   "execution_count": 63,
   "id": "e0638a50-7643-45b2-b1b1-d5df9352bc2a",
   "metadata": {},
   "outputs": [],
   "source": [
    "import pandas as pd\n",
    "import numpy as np\n",
    "import re\n",
    "from nltk.stem import PorterStemmer\n",
    "from sklearn.feature_extraction.text import TfidfVectorizer\n",
    "from sklearn.metrics.pairwise import cosine_similarity\n",
    "from pathlib import Path"
   ]
  },
  {
   "cell_type": "code",
   "execution_count": 68,
   "id": "1ffe3e97-36a8-4b1f-9e6f-28dc0fb5a880",
   "metadata": {},
   "outputs": [],
   "source": [
    "ROOT_DIR = Path.cwd()\n",
    "data_dir = ROOT_DIR / 'top_anime_dataset_v2.csv'"
   ]
  },
  {
   "cell_type": "code",
   "execution_count": null,
   "id": "3c06d6b5-a2b6-457e-b94a-120468c2bb11",
   "metadata": {},
   "outputs": [],
   "source": [
    "pd.set_option(\"display.max.columns\", None)\n",
    "anime_master_df = pd.read_csv(data_dir)\n",
    "anime_master_df.head()"
   ]
  },
  {
   "cell_type": "code",
   "execution_count": null,
   "id": "d044e1c4-7939-4846-90cd-cc87f5e7ca4c",
   "metadata": {},
   "outputs": [],
   "source": [
    "print(anime_master_df['themes'].isnull().sum())\n",
    "anime_master_df.info()"
   ]
  },
  {
   "cell_type": "code",
   "execution_count": 4,
   "id": "bc8c21ef-3d5a-4837-a204-3a1b585fdba2",
   "metadata": {},
   "outputs": [],
   "source": [
    "anime_master_df.drop_duplicates(inplace = True)"
   ]
  },
  {
   "cell_type": "code",
   "execution_count": null,
   "id": "d4e9480f-df15-408b-98ea-c57336e6f3d0",
   "metadata": {},
   "outputs": [],
   "source": [
    "anime_master_df.info()"
   ]
  },
  {
   "cell_type": "code",
   "execution_count": null,
   "id": "1e000397-2113-41bb-98f2-240237742a74",
   "metadata": {},
   "outputs": [],
   "source": [
    "anime_master_df.columns"
   ]
  },
  {
   "cell_type": "code",
   "execution_count": null,
   "id": "c7fc143c-a908-4472-878c-230c0bb6994e",
   "metadata": {},
   "outputs": [],
   "source": [
    "anime_master_df['synopsis'][1]"
   ]
  },
  {
   "cell_type": "code",
   "execution_count": 6,
   "id": "cf0c6162-e469-4081-a5f9-4825cbb88ae9",
   "metadata": {},
   "outputs": [],
   "source": [
    "selected_features = ['genres', 'themes', 'demographics', 'synopsis', 'type', 'producers', 'source']\n",
    "\n",
    "for col in selected_features:\n",
    "    anime_master_df[col] = anime_master_df[col].fillna('')"
   ]
  },
  {
   "cell_type": "code",
   "execution_count": null,
   "id": "8d2e378d-96e8-4a9e-9d06-4a4bfcfdf9ab",
   "metadata": {},
   "outputs": [],
   "source": [
    "anime_master_df.isnull().sum()"
   ]
  },
  {
   "cell_type": "code",
   "execution_count": 7,
   "id": "36c2c9e5-f30d-4a47-bbdd-ebe6121633bc",
   "metadata": {},
   "outputs": [],
   "source": [
    "anime_master_df['combined_features'] = (\n",
    "    anime_master_df['genres'] + ' ' +\n",
    "    anime_master_df['themes'] + ' ' +\n",
    "    anime_master_df['demographics'] + ' ' +\n",
    "    anime_master_df['synopsis'] + ' ' +\n",
    "    anime_master_df['type'] + ' ' +\n",
    "    anime_master_df['producers'] + ' ' +\n",
    "    anime_master_df['source']\n",
    ")"
   ]
  },
  {
   "cell_type": "code",
   "execution_count": 8,
   "id": "70bf1644-a49a-4a9a-992b-1640c1664fc6",
   "metadata": {},
   "outputs": [],
   "source": [
    "def preprocess(text):\n",
    "    if not isinstance(text, str):\n",
    "        return \"\"\n",
    "    ps = PorterStemmer()\n",
    "    text = text.lower()\n",
    "    text = re.sub(r'\\[.*?\\]', '', text)\n",
    "    text = re.sub(r'\\s+', ' ', text)\n",
    "    text = re.sub(r'\\n', '', text)\n",
    "    text = \" \".join(ps.stem(word) for word in text.split())\n",
    "    \n",
    "    return text\n",
    "\n",
    "anime_master_df['combined_features'] = anime_master_df['combined_features'].apply(preprocess)"
   ]
  },
  {
   "cell_type": "code",
   "execution_count": 9,
   "id": "d3d8062d-d414-4175-abc8-28d9a4d089fb",
   "metadata": {},
   "outputs": [
    {
     "data": {
      "text/plain": [
       "'adventure, drama, fantasi shounen dure their decade-long quest to defeat the demon king, the member of the hero\\' party—himmel himself, the priest heiter, the dwarf warrior eisen, and the elven mage frieren—forg bond through adventur and battles, creat unforgett preciou memori for most of them. however, the time that frieren spend with her comrad is equival to mere a fraction of her life, which ha last over a thousand years. when the parti disband after their victory, frieren casual return to her \"usual\" routin of collect spell across the continent. due to her differ sens of time, she seemingli hold no strong feel toward the experi she went through. as the year pass, frieren gradual realiz how her day in the hero\\' parti truli impact her. wit the death of two of her former companions, frieren begin to regret have taken their presenc for granted; she vow to better understand human and creat real person connections. although the stori of that onc memor journey ha long ended, a new tale is about to begin. tv aniplex, dentsu, shogakukan-shueisha productions, nippon televis network, toho animation, shogakukan manga'"
      ]
     },
     "execution_count": 9,
     "metadata": {},
     "output_type": "execute_result"
    }
   ],
   "source": [
    "anime_master_df['combined_features'][0]"
   ]
  },
  {
   "cell_type": "code",
   "execution_count": 10,
   "id": "c7a7d191-173e-48f8-91ad-a3c509e9b615",
   "metadata": {},
   "outputs": [],
   "source": [
    "tf_vec = TfidfVectorizer(stop_words = 'english')\n",
    "vectorized_features = tf_vec.fit_transform(anime_master_df['combined_features'])"
   ]
  },
  {
   "cell_type": "code",
   "execution_count": 11,
   "id": "2256fc78-7d42-4e2e-8544-b006d856c916",
   "metadata": {},
   "outputs": [],
   "source": [
    "similarity = cosine_similarity(vectorized_features)"
   ]
  },
  {
   "cell_type": "code",
   "execution_count": 13,
   "id": "129484f3-b3a5-469a-a7d1-bb99a2ff4ecf",
   "metadata": {},
   "outputs": [
    {
     "name": "stdin",
     "output_type": "stream",
     "text": [
      "Movie:  Bleach\n"
     ]
    }
   ],
   "source": [
    "movie = input('Movie: ')"
   ]
  },
  {
   "cell_type": "code",
   "execution_count": 14,
   "id": "22189d0b-2dda-4830-b2eb-0c08d5e8af88",
   "metadata": {},
   "outputs": [
    {
     "data": {
      "text/plain": [
       "724"
      ]
     },
     "execution_count": 14,
     "metadata": {},
     "output_type": "execute_result"
    }
   ],
   "source": [
    "input_idx = anime_master_df[anime_master_df['name'] == movie].index[0].item()\n",
    "input_idx"
   ]
  },
  {
   "cell_type": "code",
   "execution_count": 18,
   "id": "40b3035c-4567-4521-b965-338124d286e7",
   "metadata": {},
   "outputs": [],
   "source": [
    "# def recommend_anime(anime):\n",
    "#     anime_index = animedf[animedf['name'] == anime].index[0].item()\n",
    "#     distances = list(enumerate(similarity[anime_index]))\n",
    "#     sorted_distances = sorted(distances, reverse=True, key=lambda x: x[1])\n",
    "\n",
    "#     candidates = []\n",
    "#     for i in sorted_distances[1:9]:\n",
    "#         idx = i[0]\n",
    "#         candidates.append({\n",
    "#             'name': animedf.iloc[idx]['name'],\n",
    "#             'poster_url': animedf.iloc[idx]['image_url'],\n",
    "#             'anime_url': animedf.iloc[idx]['anime_url'],\n",
    "#             'score': animedf.iloc[idx]['score'],\n",
    "#         })\n",
    "    \n",
    "#     candidates = sorted(candidates, reverse=True, key=lambda x: x['score'])\n",
    "\n",
    "#     recommended_anime_names = [c['name'] for c in candidates]\n",
    "\n",
    "#     return recommended_anime_names"
   ]
  },
  {
   "cell_type": "code",
   "execution_count": null,
   "id": "7ed441f9-88ac-46c8-9571-ea6dd26d6dd2",
   "metadata": {},
   "outputs": [],
   "source": [
    "recommend_anime('One Piece Fan Letter')"
   ]
  },
  {
   "cell_type": "code",
   "execution_count": 29,
   "id": "de711d77-4e8f-4513-9382-46adc47b2e75",
   "metadata": {},
   "outputs": [],
   "source": [
    "anime_dict = {}\n",
    "for i in range(similarity.shape[0]):\n",
    "    top_idx = np.argsort(similarity[i])[-11:][::-1]\n",
    "    top_idx = [idx for idx in top_idx if idx != i]\n",
    "    anime_dict[i] = top_idx[:10]\n",
    "    \n",
    "recs_df = pd.DataFrame.from_dict(anime_dict, orient = 'index')"
   ]
  },
  {
   "cell_type": "code",
   "execution_count": 30,
   "id": "f3ef7e19-6e9e-48e8-8797-e7327960cee6",
   "metadata": {},
   "outputs": [
    {
     "data": {
      "text/html": [
       "<div>\n",
       "<style scoped>\n",
       "    .dataframe tbody tr th:only-of-type {\n",
       "        vertical-align: middle;\n",
       "    }\n",
       "\n",
       "    .dataframe tbody tr th {\n",
       "        vertical-align: top;\n",
       "    }\n",
       "\n",
       "    .dataframe thead th {\n",
       "        text-align: right;\n",
       "    }\n",
       "</style>\n",
       "<table border=\"1\" class=\"dataframe\">\n",
       "  <thead>\n",
       "    <tr style=\"text-align: right;\">\n",
       "      <th></th>\n",
       "      <th>0</th>\n",
       "      <th>1</th>\n",
       "      <th>2</th>\n",
       "      <th>3</th>\n",
       "      <th>4</th>\n",
       "      <th>5</th>\n",
       "      <th>6</th>\n",
       "      <th>7</th>\n",
       "      <th>8</th>\n",
       "      <th>9</th>\n",
       "    </tr>\n",
       "  </thead>\n",
       "  <tbody>\n",
       "    <tr>\n",
       "      <th>0</th>\n",
       "      <td>2539</td>\n",
       "      <td>3416</td>\n",
       "      <td>754</td>\n",
       "      <td>1886</td>\n",
       "      <td>5257</td>\n",
       "      <td>935</td>\n",
       "      <td>14187</td>\n",
       "      <td>3104</td>\n",
       "      <td>4804</td>\n",
       "      <td>3393</td>\n",
       "    </tr>\n",
       "    <tr>\n",
       "      <th>1</th>\n",
       "      <td>525</td>\n",
       "      <td>2039</td>\n",
       "      <td>3187</td>\n",
       "      <td>5912</td>\n",
       "      <td>675</td>\n",
       "      <td>3027</td>\n",
       "      <td>6009</td>\n",
       "      <td>8214</td>\n",
       "      <td>14893</td>\n",
       "      <td>12905</td>\n",
       "    </tr>\n",
       "    <tr>\n",
       "      <th>2</th>\n",
       "      <td>126</td>\n",
       "      <td>2309</td>\n",
       "      <td>328</td>\n",
       "      <td>170</td>\n",
       "      <td>295</td>\n",
       "      <td>14629</td>\n",
       "      <td>8784</td>\n",
       "      <td>3057</td>\n",
       "      <td>20</td>\n",
       "      <td>9712</td>\n",
       "    </tr>\n",
       "    <tr>\n",
       "      <th>3</th>\n",
       "      <td>359</td>\n",
       "      <td>512</td>\n",
       "      <td>1021</td>\n",
       "      <td>915</td>\n",
       "      <td>54</td>\n",
       "      <td>416</td>\n",
       "      <td>10323</td>\n",
       "      <td>2315</td>\n",
       "      <td>607</td>\n",
       "      <td>6593</td>\n",
       "    </tr>\n",
       "    <tr>\n",
       "      <th>4</th>\n",
       "      <td>792</td>\n",
       "      <td>36</td>\n",
       "      <td>133</td>\n",
       "      <td>46</td>\n",
       "      <td>25</td>\n",
       "      <td>115</td>\n",
       "      <td>2415</td>\n",
       "      <td>86</td>\n",
       "      <td>1071</td>\n",
       "      <td>3507</td>\n",
       "    </tr>\n",
       "  </tbody>\n",
       "</table>\n",
       "</div>"
      ],
      "text/plain": [
       "      0     1     2     3     4      5      6     7      8      9\n",
       "0  2539  3416   754  1886  5257    935  14187  3104   4804   3393\n",
       "1   525  2039  3187  5912   675   3027   6009  8214  14893  12905\n",
       "2   126  2309   328   170   295  14629   8784  3057     20   9712\n",
       "3   359   512  1021   915    54    416  10323  2315    607   6593\n",
       "4   792    36   133    46    25    115   2415    86   1071   3507"
      ]
     },
     "execution_count": 30,
     "metadata": {},
     "output_type": "execute_result"
    }
   ],
   "source": [
    "recs_df.head()"
   ]
  },
  {
   "cell_type": "code",
   "execution_count": null,
   "id": "2827e396-0b3d-4e81-b13a-4211f68d36b1",
   "metadata": {},
   "outputs": [],
   "source": []
  },
  {
   "cell_type": "code",
   "execution_count": null,
   "id": "68c03cd9-d34e-41a8-b345-9b7b8bbafd3a",
   "metadata": {},
   "outputs": [],
   "source": []
  },
  {
   "cell_type": "code",
   "execution_count": null,
   "id": "c36f3056-0865-4941-91bd-a7911eaca23e",
   "metadata": {},
   "outputs": [],
   "source": []
  },
  {
   "cell_type": "code",
   "execution_count": 46,
   "id": "1f7254ec-f05d-402f-89b6-9d7a1699a8a5",
   "metadata": {},
   "outputs": [],
   "source": [
    "def recommend(anime):\n",
    "    anime_index = animedf[animedf['name'] == anime].index[0]\n",
    "    neighbor_ids = recs_df.iloc[anime_index].dropna().astype(int).tolist()\n",
    "\n",
    "    candidates = []\n",
    "    for idx in neighbor_ids:\n",
    "        candidates.append(\n",
    "            {\n",
    "                'name': animedf.iloc[idx]['name'],\n",
    "                'poster_url': animedf.iloc[idx]['image_url'],\n",
    "                'anime_url': animedf.iloc[idx]['anime_url'],\n",
    "                'score': animedf.iloc[idx]['score']\n",
    "            }\n",
    "        )\n",
    "    names = [c['name'] for c in candidates]\n",
    "\n",
    "    return names"
   ]
  },
  {
   "cell_type": "code",
   "execution_count": 47,
   "id": "e3f69db0-2fb0-4526-8fac-5ea7e09f7486",
   "metadata": {},
   "outputs": [
    {
     "data": {
      "text/plain": [
       "['Fullmetal Alchemist',\n",
       " 'Fullmetal Alchemist: The Conqueror of Shamballa',\n",
       " 'Fullmetal Alchemist: The Sacred Star of Milos',\n",
       " 'Fullmetal Alchemist: The Sacred Star of Milos Specials',\n",
       " 'Fullmetal Alchemist: Brotherhood Specials',\n",
       " 'Fullmetal Alchemist: Premium Collection',\n",
       " 'Kishin Taisen Gigantic Formula',\n",
       " 'Yoroiden Samurai Troopers Kikoutei Densetsu',\n",
       " 'Otona no Bouguya-san',\n",
       " 'Garo: Guren no Tsuki']"
      ]
     },
     "execution_count": 47,
     "metadata": {},
     "output_type": "execute_result"
    }
   ],
   "source": [
    "recommend('Fullmetal Alchemist: Brotherhood')"
   ]
  },
  {
   "cell_type": "code",
   "execution_count": 61,
   "id": "56379c74-3c94-4920-bdbc-0ecb5d34cf8d",
   "metadata": {},
   "outputs": [],
   "source": [
    "recs_df.to_csv('artifacts/similarity_matrix.csv', index = False)"
   ]
  },
  {
   "cell_type": "code",
   "execution_count": 17,
   "id": "3caac2d7-5e78-45d6-8287-0ea4d23af3a4",
   "metadata": {},
   "outputs": [],
   "source": [
    "anime_cols = ['anime_id', 'anime_url', 'image_url', 'name', 'score', 'themes', 'demographics', 'synopsis', 'type', 'episodes', 'producers', 'source', 'combined_features']\n",
    "animedf = anime_master_df[anime_cols]"
   ]
  },
  {
   "cell_type": "code",
   "execution_count": 60,
   "id": "0001c9da-1489-439b-8058-ddad9935d713",
   "metadata": {},
   "outputs": [],
   "source": [
    "animedf.to_csv('artifacts/anime_data.csv', index = False)"
   ]
  },
  {
   "cell_type": "code",
   "execution_count": null,
   "id": "7b76c5a9-1d63-42fe-9447-6af7ce48e025",
   "metadata": {},
   "outputs": [],
   "source": [
    "# import numpy as np\n",
    "# np.save(\"artifacts/similarity_matrix.npy\", similarity.astype(\"float32\"))"
   ]
  },
  {
   "cell_type": "code",
   "execution_count": 40,
   "id": "8b0d8d4c-541a-450f-bfad-977a2d74eac0",
   "metadata": {},
   "outputs": [],
   "source": [
    "import requests\n",
    "import pandas as pd\n",
    "url = 'https://api.jikan.moe/v4/seasons/now?limit=25'\n",
    "\n",
    "response = requests.get(url)\n",
    "data = response.json()\n",
    "data['data']\n",
    "\n",
    "new_anime_list = []\n",
    "for item in data['data']:\n",
    "    new_anime_list.append({\n",
    "        'anime_id': item['mal_id'],\n",
    "        'anime_url': item['url'],\n",
    "        'image_url': item['images']['jpg']['image_url'],\n",
    "        'name': item['title'],\n",
    "        'score': item.get('score', None),\n",
    "        'themes': [t[\"name\"] for t in item.get(\"themes\", [])],\n",
    "        'demographics': [d[\"name\"] for d in item.get(\"demographics\", [])],\n",
    "        'synopsis': item.get('synopsis', ''),\n",
    "        'type': item.get('type', ''),\n",
    "        'episodes': item.get(\"episodes\", None),\n",
    "        'producers': [p[\"name\"] for p in item.get(\"producers\", [])],\n",
    "        'source': item.get(\"source\", \"\"),\n",
    "        'combined_features': None\n",
    "    })\n",
    "\n",
    "new_df = pd.DataFrame(new_anime_list)"
   ]
  },
  {
   "cell_type": "code",
   "execution_count": null,
   "id": "251c62c5-60ff-4607-b358-af0f1ff22dc5",
   "metadata": {},
   "outputs": [],
   "source": [
    "new_df = new_df.sort_values(by = 'score', ascending = False).head()\n",
    "new_df"
   ]
  },
  {
   "cell_type": "code",
   "execution_count": null,
   "id": "f77ce42b-bb77-4d11-8401-7e8a44359933",
   "metadata": {},
   "outputs": [],
   "source": [
    "new_df.to_csv('artifacts/trending_df.csv', index = False)"
   ]
  },
  {
   "cell_type": "code",
   "execution_count": null,
   "id": "c4aa9e3b-667f-43ea-93ed-233b5c02eb9c",
   "metadata": {},
   "outputs": [],
   "source": [
    "animedf.head()"
   ]
  }
 ],
 "metadata": {
  "kernelspec": {
   "display_name": "Python 3 (ipykernel)",
   "language": "python",
   "name": "python3"
  },
  "language_info": {
   "codemirror_mode": {
    "name": "ipython",
    "version": 3
   },
   "file_extension": ".py",
   "mimetype": "text/x-python",
   "name": "python",
   "nbconvert_exporter": "python",
   "pygments_lexer": "ipython3",
   "version": "3.13.5"
  }
 },
 "nbformat": 4,
 "nbformat_minor": 5
}

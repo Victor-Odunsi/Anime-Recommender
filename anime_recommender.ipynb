{
 "cells": [
  {
   "cell_type": "code",
   "execution_count": null,
   "id": "3c06d6b5-a2b6-457e-b94a-120468c2bb11",
   "metadata": {},
   "outputs": [],
   "source": [
    "import pandas as pd\n",
    "pd.set_option(\"display.max.columns\", None)\n",
    "anime_master_df = pd.read_csv(r\"C:\\Users\\PC\\Desktop\\top_anime_dataset_v2.csv\")\n",
    "anime_master_df.head()"
   ]
  },
  {
   "cell_type": "code",
   "execution_count": null,
   "id": "d044e1c4-7939-4846-90cd-cc87f5e7ca4c",
   "metadata": {},
   "outputs": [],
   "source": [
    "print(anime_master_df['themes'].isnull().sum())\n",
    "anime_master_df.info()"
   ]
  },
  {
   "cell_type": "code",
   "execution_count": null,
   "id": "bc8c21ef-3d5a-4837-a204-3a1b585fdba2",
   "metadata": {},
   "outputs": [],
   "source": [
    "anime_master_df.head()"
   ]
  },
  {
   "cell_type": "code",
   "execution_count": null,
   "id": "1e000397-2113-41bb-98f2-240237742a74",
   "metadata": {},
   "outputs": [],
   "source": [
    "anime_master_df.columns"
   ]
  },
  {
   "cell_type": "code",
   "execution_count": null,
   "id": "c7fc143c-a908-4472-878c-230c0bb6994e",
   "metadata": {},
   "outputs": [],
   "source": [
    "anime_master_df['synopsis'][1]"
   ]
  },
  {
   "cell_type": "code",
   "execution_count": null,
   "id": "51620757-2cbe-454f-b9e5-a05ea97937e2",
   "metadata": {},
   "outputs": [],
   "source": [
    "anime_master_df['episodes'] = pd.to_numeric(anime_master_df['episodes'], errors = 'coerce')"
   ]
  },
  {
   "cell_type": "code",
   "execution_count": null,
   "id": "daea8ede-beb8-48e3-b20c-254ba537296e",
   "metadata": {},
   "outputs": [],
   "source": [
    "selected_features = ['genres', 'themes', 'demographics', 'synopsis', 'type', 'producers', 'source']\n",
    "\n",
    "for col in selected_features:\n",
    "    anime_master_df[col] = anime_master_df[col].fillna('')"
   ]
  },
  {
   "cell_type": "code",
   "execution_count": null,
   "id": "ccfe0d22-825f-44b3-8b75-d8f811325018",
   "metadata": {},
   "outputs": [],
   "source": [
    "anime_master_df.head()"
   ]
  },
  {
   "cell_type": "code",
   "execution_count": null,
   "id": "36c2c9e5-f30d-4a47-bbdd-ebe6121633bc",
   "metadata": {},
   "outputs": [],
   "source": [
    "anime_master_df['combined_features'] = (\n",
    "    anime_master_df['genres'] + ' ' +\n",
    "    anime_master_df['themes'] + ' ' +\n",
    "    anime_master_df['demographics'] + ' ' +\n",
    "    anime_master_df['synopsis'] + ' ' +\n",
    "    anime_master_df['type'] + ' ' +\n",
    "    anime_master_df['producers'] + ' ' +\n",
    "    anime_master_df['source']\n",
    ")"
   ]
  },
  {
   "cell_type": "code",
   "execution_count": null,
   "id": "a7ba030d-d8c6-451c-b3b3-802ebd9e4ddb",
   "metadata": {},
   "outputs": [],
   "source": [
    "anime_master_df.combined_features[0]"
   ]
  },
  {
   "cell_type": "code",
   "execution_count": null,
   "id": "c13dd5ff-2086-4794-a2a6-606fb57ab454",
   "metadata": {},
   "outputs": [],
   "source": [
    "import re\n",
    "from nltk.stem import PorterStemmer\n",
    "from sklearn.feature_extraction.text import TfidfVectorizer\n",
    "from sklearn.metrics.pairwise import cosine_similarity\n",
    "\n",
    "def preprocess(text):\n",
    "    if not isinstance(text, str):\n",
    "        return \"\"\n",
    "    ps = PorterStemmer()\n",
    "    text = text.lower()\n",
    "    text = re.sub(r'\\[.*?\\]', '', text)\n",
    "    text = re.sub(r'\\s+', ' ', text)\n",
    "    text = re.sub(r'\\n', '', text)\n",
    "    text = \" \".join(ps.stem(word) for word in text.split())\n",
    "    \n",
    "    return text\n",
    "\n",
    "anime_master_df['combined_features'] = anime_master_df['combined_features'].apply(preprocess)"
   ]
  },
  {
   "cell_type": "code",
   "execution_count": null,
   "id": "4ca2916d-a66b-487d-885d-9aca544d383d",
   "metadata": {},
   "outputs": [],
   "source": [
    "anime_master_df.head()"
   ]
  },
  {
   "cell_type": "code",
   "execution_count": 104,
   "id": "c7a7d191-173e-48f8-91ad-a3c509e9b615",
   "metadata": {},
   "outputs": [],
   "source": [
    "tf_vec = TfidfVectorizer(stop_words = 'english')\n",
    "vectorized_features = tf_vec.fit_transform(anime_master_df['combined_features'])"
   ]
  },
  {
   "cell_type": "code",
   "execution_count": 105,
   "id": "2256fc78-7d42-4e2e-8544-b006d856c916",
   "metadata": {},
   "outputs": [],
   "source": [
    "similarity = cosine_similarity(vectorized_features)"
   ]
  },
  {
   "cell_type": "code",
   "execution_count": 106,
   "id": "129484f3-b3a5-469a-a7d1-bb99a2ff4ecf",
   "metadata": {},
   "outputs": [
    {
     "name": "stdin",
     "output_type": "stream",
     "text": [
      "Movie:  Naruto\n"
     ]
    }
   ],
   "source": [
    "movie = input('Movie: ')"
   ]
  },
  {
   "cell_type": "code",
   "execution_count": 107,
   "id": "22189d0b-2dda-4830-b2eb-0c08d5e8af88",
   "metadata": {},
   "outputs": [
    {
     "data": {
      "text/plain": [
       "672"
      ]
     },
     "execution_count": 107,
     "metadata": {},
     "output_type": "execute_result"
    }
   ],
   "source": [
    "input_idx = anime_master_df[anime_master_df['name'] == movie].index[0].item()\n",
    "input_idx"
   ]
  },
  {
   "cell_type": "code",
   "execution_count": 109,
   "id": "5f3a9b81-7e93-413c-a9f2-637afff9c091",
   "metadata": {},
   "outputs": [],
   "source": [
    "def recommend(movie):\n",
    "    recommended_anime = []\n",
    "    recommended_anime_poster = []\n",
    "    input_idx = anime_master_df[anime_master_df['name'] == movie].index[0].item()\n",
    "    similarity_score = list(enumerate(similarity[input_idx]))\n",
    "    sorted_similarity_score = sorted(similarity_score, key = lambda x: x[1], reverse = True)\n",
    "\n",
    "    candidates = []\n",
    "    for each in sorted_similarity_score[1:11]:\n",
    "        idx = each[0]\n",
    "        candidates.append({\n",
    "            'name': anime_master_df.iloc[idx]['name'],\n",
    "            'poster': anime_master_df.iloc[idx]['image_url'],\n",
    "            'score': anime_master_df.iloc[idx]['score']\n",
    "        })\n",
    "\n",
    "    candidates = sorted(candidates, key = lambda x: x['score'], reverse = True)\n",
    "\n",
    "    recommended_anime = [m['name'] for m in candidates[:5]]\n",
    "    recommended_anime_poster = [m['poster'] for m in candidates[:5]]\n",
    "    \n",
    "    return recommended_anime, recommended_anime_poster"
   ]
  },
  {
   "cell_type": "code",
   "execution_count": 110,
   "id": "35a45988-8156-4d21-8db0-c5ae31f6b681",
   "metadata": {},
   "outputs": [
    {
     "data": {
      "text/plain": [
       "(['Naruto: Shippuuden',\n",
       "  'Naruto: Shippuuden Movie 6 - Road to Ninja',\n",
       "  'Naruto: Shippuuden Movie 5 - Blood Prison',\n",
       "  'Naruto: Shippuuden Movie 4 - The Lost Tower',\n",
       "  'Boruto: Naruto the Movie'],\n",
       " ['https://cdn.myanimelist.net/images/anime/1565/111305.jpg',\n",
       "  'https://cdn.myanimelist.net/images/anime/1620/94336.jpg',\n",
       "  'https://cdn.myanimelist.net/images/anime/1500/134496.jpg',\n",
       "  'https://cdn.myanimelist.net/images/anime/1479/116734.jpg',\n",
       "  'https://cdn.myanimelist.net/images/anime/4/78280.jpg'])"
      ]
     },
     "execution_count": 110,
     "metadata": {},
     "output_type": "execute_result"
    }
   ],
   "source": [
    "recommend(movie)"
   ]
  },
  {
   "cell_type": "code",
   "execution_count": null,
   "id": "51c4dff7-b702-4f73-a770-797832eb15c0",
   "metadata": {},
   "outputs": [],
   "source": [
    "pred_list = [20, 0.975]\n",
    "\n",
    "anime_master_df.iloc[pred_list[0]]['name']"
   ]
  },
  {
   "cell_type": "code",
   "execution_count": null,
   "id": "4f2c3606-1c5d-4a59-919c-ddf7d14a9730",
   "metadata": {},
   "outputs": [],
   "source": [
    "pred_list[0]"
   ]
  },
  {
   "cell_type": "code",
   "execution_count": null,
   "id": "de711d77-4e8f-4513-9382-46adc47b2e75",
   "metadata": {},
   "outputs": [],
   "source": [
    "similarity_matrix_score = list(enumerate(similarity_matrix[input_idx]))\n",
    "\n",
    "sorted_similarity_matrix_score = sorted(similarity_matrix_score, key = lambda x: x[1], reverse = True)\n",
    "\n",
    "    "
   ]
  },
  {
   "cell_type": "code",
   "execution_count": 111,
   "id": "3fd6438d-1b58-4074-81ab-382ba28efe28",
   "metadata": {},
   "outputs": [],
   "source": [
    "anime_master_df['episodes'] = anime_master_df['episodes'].fillna('')"
   ]
  },
  {
   "cell_type": "code",
   "execution_count": 112,
   "id": "3caac2d7-5e78-45d6-8287-0ea4d23af3a4",
   "metadata": {},
   "outputs": [],
   "source": [
    "anime_cols = ['anime_id', 'anime_url', 'image_url', 'name', 'score', 'themes', 'demographics', 'synopsis', 'type', 'episodes', 'producers', 'source', 'combined_features']\n",
    "animedf = anime_master_df[anime_cols]"
   ]
  },
  {
   "cell_type": "code",
   "execution_count": 121,
   "id": "b77e7d1f-7680-4cb3-a3c6-254d516a002e",
   "metadata": {},
   "outputs": [],
   "source": [
    "# def to_lower(text):\n",
    "#     text = text.lower()\n",
    "#     return text\n",
    "    \n",
    "# animedf['name'] = animedf['name'].apply(lambda x: to_lower(x))"
   ]
  },
  {
   "cell_type": "code",
   "execution_count": null,
   "id": "89f853c3-5882-43ba-8772-cd887f5643e7",
   "metadata": {},
   "outputs": [],
   "source": [
    "animedf.head()"
   ]
  },
  {
   "cell_type": "code",
   "execution_count": 115,
   "id": "7a8ad41d-9315-49a5-9913-c58d80e03f25",
   "metadata": {},
   "outputs": [],
   "source": [
    "import pickle\n",
    "\n",
    "with open('artifacts/similarity_matrix.pkl', 'wb') as f:\n",
    "    pickle.dump(similarity_matrix, f)"
   ]
  },
  {
   "cell_type": "code",
   "execution_count": 116,
   "id": "8ac10b44-c088-4ce8-8de6-83cbccf726a3",
   "metadata": {},
   "outputs": [],
   "source": [
    "with open('artifacts/anime_data.csv', 'wb') as f:\n",
    "    pickle.dump(animedf, f)"
   ]
  },
  {
   "cell_type": "code",
   "execution_count": 144,
   "id": "1f875900-a46c-4678-a6a1-ef2543aa6568",
   "metadata": {},
   "outputs": [],
   "source": [
    "url = 'https://api.jikan.moe/v4/seasons/now?limit=25'\n",
    "\n",
    "response = requests.get(url)\n",
    "data = response.json()\n",
    "data['data']\n",
    "\n",
    "new_anime_list = []\n",
    "for item in data['data']:\n",
    "    new_anime_list.append({\n",
    "        'anime_id': item['mal_id'],\n",
    "        'anime_url': item['url'],\n",
    "        'image_url': item['images']['jpg']['image_url'],\n",
    "        'name': item['title'],\n",
    "        'score': item.get('score', None),\n",
    "        'themes': [t[\"name\"] for t in item.get(\"themes\", [])],\n",
    "        'demographics': [d[\"name\"] for d in item.get(\"demographics\", [])],\n",
    "        'synopsis': item.get('synopsis', ''),\n",
    "        'type': item.get('type', ''),\n",
    "        'episodes': item.get(\"episodes\", None),\n",
    "        'producers': [p[\"name\"] for p in item.get(\"producers\", [])],\n",
    "        'source': item.get(\"source\", \"\"),\n",
    "        'combined_features': None\n",
    "    })\n",
    "\n",
    "new_df = pd.DataFrame(new_anime_list)"
   ]
  },
  {
   "cell_type": "code",
   "execution_count": 148,
   "id": "5b2be713-6985-4832-b4c4-a579360af3c2",
   "metadata": {},
   "outputs": [],
   "source": [
    "new_df = new_df.sort_values(by = 'score', ascending = False).head()"
   ]
  },
  {
   "cell_type": "code",
   "execution_count": 149,
   "id": "c28952aa-9060-4f0f-a252-94068b32e83e",
   "metadata": {},
   "outputs": [],
   "source": [
    "from datetime import datetime\n",
    "\n",
    "date_str = datetime.now().strftime(\"%d-%m-%Y\")\n",
    "\n",
    "with open('artifacts/trending_df.csv', 'wb') as f:\n",
    "    pickle.dump(new_df, f)"
   ]
  },
  {
   "cell_type": "code",
   "execution_count": null,
   "id": "f4874fb9-a2c5-4f54-9e2f-988eca28487a",
   "metadata": {},
   "outputs": [],
   "source": [
    "animedf.sort_values(by = 'score', ascending = False).head()"
   ]
  },
  {
   "cell_type": "code",
   "execution_count": null,
   "id": "92f9cd68-d5cb-437f-9429-2b0cec48ce63",
   "metadata": {},
   "outputs": [],
   "source": []
  },
  {
   "cell_type": "code",
   "execution_count": null,
   "id": "0ad4f6b7-d56d-4b6c-893b-1e9d685ed314",
   "metadata": {},
   "outputs": [],
   "source": []
  }
 ],
 "metadata": {
  "kernelspec": {
   "display_name": "Python 3 (ipykernel)",
   "language": "python",
   "name": "python3"
  },
  "language_info": {
   "codemirror_mode": {
    "name": "ipython",
    "version": 3
   },
   "file_extension": ".py",
   "mimetype": "text/x-python",
   "name": "python",
   "nbconvert_exporter": "python",
   "pygments_lexer": "ipython3",
   "version": "3.13.5"
  }
 },
 "nbformat": 4,
 "nbformat_minor": 5
}
